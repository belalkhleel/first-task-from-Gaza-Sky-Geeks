{
 "cells": [
  {
   "cell_type": "code",
   "execution_count": 12,
   "id": "dcd9e1a2",
   "metadata": {},
   "outputs": [
    {
     "name": "stdout",
     "output_type": "stream",
     "text": [
      "by decoretor 0.6954299000062747\n"
     ]
    }
   ],
   "source": [
    "# first qoustion\n",
    "\n",
    "import time\n",
    "import functools \n",
    "# by decorator \n",
    "def time_measure_decorator(func):\n",
    "    @functools.wraps(func)\n",
    "    def wraper(*args,**kwargs):\n",
    "        start_time=time.perf_counter()\n",
    "        func(*args,**kwargs)\n",
    "        end_time=time.perf_counter()\n",
    "        run_time=end_time-start_time\n",
    "        print(f\"by decoretor {run_time}\")\n",
    "    return wraper\n",
    "@time_measure_decorator\n",
    "def waste_some_time(num_times): \n",
    "    for _ in range(num_times):\n",
    "        sum([i**2 for i in range(10000)])\n"
   ]
  },
  {
   "cell_type": "code",
   "execution_count": 22,
   "id": "19f41e82",
   "metadata": {},
   "outputs": [
    {
     "name": "stdout",
     "output_type": "stream",
     "text": [
      "by timeit module 0.01857190000009723\n",
      "by decoretor 0.6299370000051567\n"
     ]
    }
   ],
   "source": [
    "import timeit\n",
    "# by timeit module\n",
    "setup = \"\"\"\n",
    "def waste_some_time1():\n",
    "    for _ in range(200):\n",
    "        sum([i**2 for i in range(10000)])\n",
    "\"\"\"\n",
    "\n",
    "t = timeit.Timer(stmt=\"waste_some_time1\",setup=setup)\n"
   ]
  },
  {
   "cell_type": "code",
   "execution_count": 23,
   "id": "7be9704c",
   "metadata": {},
   "outputs": [
    {
     "name": "stdout",
     "output_type": "stream",
     "text": [
      "by timeit module 0.01614300000073854\n",
      "by decoretor 0.634069499996258\n"
     ]
    }
   ],
   "source": [
    "# run the code\n",
    "print(f\"by timeit module {t.timeit()}\")\n",
    "waste_some_time(200)"
   ]
  },
  {
   "cell_type": "code",
   "execution_count": 158,
   "id": "3473457f",
   "metadata": {},
   "outputs": [
    {
     "name": "stdout",
     "output_type": "stream",
     "text": [
      "inectance name is 1998\n",
      "3\n",
      "4\n",
      "2\n"
     ]
    }
   ],
   "source": [
    "# qoustion 2\n",
    "class Humen:\n",
    "    humen_numbers=0\n",
    "    def __init__(self,name,age):\n",
    "        self.name=name\n",
    "        self.age=age\n",
    "        Humen.humen_numbers=Humen.humen_numbers+1\n",
    "    #static method\n",
    "    @staticmethod\n",
    "    def addNumbers(x, y):\n",
    "        return x + y\n",
    "\n",
    "    #inestance method\n",
    "    def print_year_of_birth(self):\n",
    "        print(f\"inectance name is {2023-self.age}\")\n",
    "    @classmethod\n",
    "    def calc_numbers(cls):\n",
    "        print(cls.humen_numbers)\n",
    "        \n",
    "        \n",
    "belal=Humen(\"belal\",25)\n",
    "ahmad=Humen(\"ahmad\",22)\n",
    "\n",
    "belal.print_year_of_birth()\n",
    "print(Humen.addNumbers(1,2))\n",
    "print(belal.addNumbers(2,2))\n",
    "Humen.calc_numbers()\n",
    "\n",
    "\n",
    "\n",
    "\n",
    "\n"
   ]
  },
  {
   "cell_type": "code",
   "execution_count": 66,
   "id": "0cb02f38",
   "metadata": {},
   "outputs": [
    {
     "name": "stdout",
     "output_type": "stream",
     "text": [
      "['A', 'A', 'A', 'E', 'G', 'M', 'M', 'N', 'N']\n",
      "e\n",
      "g\n"
     ]
    }
   ],
   "source": [
    "# qoustion 3\n",
    "\n",
    "# str_name=\"NamE naMag\"\n",
    "# str_name=str_name.upper()\n",
    "# str_name=str_name.replace(\" \", \"\")\n",
    "# print(sorted(str_name))\n",
    "# name=sorted(str_name)\n",
    "# for i in range(len(name)-1):\n",
    "#     if name[i]!=name[i+1] and name[i]!=name[i-1]:\n",
    "# #         print (name[i])\n",
    "#         if name[i]not in str_name:\n",
    "#             print(name[i])\n",
    "#         else:\n",
    "#             name[i]=name[i].lower()\n",
    "#             print(name[i].lower())\n",
    "\n",
    "#i know i can use the inested loop but i try solve it by another way\n",
    "\n",
    "# many problems , so ... try another way \n"
   ]
  },
  {
   "cell_type": "code",
   "execution_count": 157,
   "id": "520a3417",
   "metadata": {},
   "outputs": [
    {
     "name": "stdout",
     "output_type": "stream",
     "text": [
      "Belal Khleel\n",
      "B\n"
     ]
    }
   ],
   "source": [
    "import functools \n",
    "my_str=input()\n",
    "def my_decorator(func):\n",
    "    functools.wraps(func)\n",
    "    def wrapper(string):\n",
    "        a=string.upper()\n",
    "        a=a.replace(\" \",\"\")\n",
    "        \n",
    "        index=func(a)\n",
    "        if index is int():\n",
    "            print(string[index])\n",
    "        else:\n",
    "            print(index)\n",
    "    return wrapper\n",
    "@my_decorator\n",
    "def magic_char(string):\n",
    "    for i in range(len(string)):\n",
    "        flag=0\n",
    "        for j in range(len(string)):\n",
    "            if string[i]==string[j] and i!=j:\n",
    "                flag=1\n",
    "                break\n",
    "        if flag == 0:\n",
    "            return i\n",
    "            break\n",
    "        if flag == 1:\n",
    "            return \"all of them repeted\"\n",
    "magic_char(my_str)\n"
   ]
  },
  {
   "cell_type": "code",
   "execution_count": null,
   "id": "2b185db0",
   "metadata": {},
   "outputs": [],
   "source": []
  },
  {
   "cell_type": "code",
   "execution_count": null,
   "id": "5a770a30",
   "metadata": {},
   "outputs": [],
   "source": []
  }
 ],
 "metadata": {
  "kernelspec": {
   "display_name": "Python 3 (ipykernel)",
   "language": "python",
   "name": "python3"
  },
  "language_info": {
   "codemirror_mode": {
    "name": "ipython",
    "version": 3
   },
   "file_extension": ".py",
   "mimetype": "text/x-python",
   "name": "python",
   "nbconvert_exporter": "python",
   "pygments_lexer": "ipython3",
   "version": "3.10.9"
  }
 },
 "nbformat": 4,
 "nbformat_minor": 5
}
